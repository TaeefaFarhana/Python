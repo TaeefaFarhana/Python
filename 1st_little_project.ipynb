import matplotlib.pyplot as plt
import numpy as np
print("Female literacy rate from 1970 to 2024.\n")
x_axis=np.array([11,17,25,35,41.4,48,55,72,75])
y_axis=np.array([1970,1971,1980,1990,2000,2005,2010,2020,2024])

plt.plot(x_axis,y_axis,color='m',marker='*',mfc='g',mec='b',linewidth='2')
plt.xlabel("Percentage of female")
plt.ylabel("Years")
plt.title("Increasing of female literacy from 1970 to 2024.")
plt.show()
