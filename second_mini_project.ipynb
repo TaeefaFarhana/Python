print("School, College and University going female students rate in Bangladesh.\n")
import matplotlib.pyplot as plt
import numpy as np
x1 = np.array([77.3])
y1 = np.array(["School"])

x2 = np.array([52.3])
y2 = np.array(["College"])

x3 = np.array([36.3])
y3 = np.array(["University"])

x=np.array([77.3,52.3,36.3])
y= np.array(["School","College","University"])
plt.barh(y,x,color=['m','g','b'])
plt.title("Different stages of female education rate.")
plt.xlabel("percentage of female students.")
plt.show()
